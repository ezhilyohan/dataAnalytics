{
 "cells": [
  {
   "cell_type": "markdown",
   "metadata": {},
   "source": [
    "Import Required Libraries"
   ]
  },
  {
   "cell_type": "code",
   "execution_count": 2,
   "metadata": {},
   "outputs": [],
   "source": [
    "\n",
    "import pandas as pd  # Data Manipulation\n",
    "import numpy as np   # Scientific Calculation\n",
    "import seaborn as sns  # Visualisation\n",
    "import matplotlib.pyplot as plt  #Visualisation\n",
    "import seaborn as seabornInstance\n",
    "%matplotlib inline \n",
    "sns.set(color_codes=True)"
   ]
  },
  {
   "cell_type": "markdown",
   "metadata": {},
   "source": [
    "PART 1 : EXPLORATORY DATA ANALYSIS"
   ]
  },
  {
   "cell_type": "code",
   "execution_count": 3,
   "metadata": {},
   "outputs": [],
   "source": [
    "data = pd.read_excel(r'C:\\Users\\ezhil yohaventhan\\Downloads\\Data Analyst Assignment DataSet.xlsx')"
   ]
  },
  {
   "cell_type": "markdown",
   "metadata": {},
   "source": [
    "Print method just displays data of first five rows and last five rows.\n",
    "It also shows no.of rows and columns."
   ]
  },
  {
   "cell_type": "code",
   "execution_count": 4,
   "metadata": {},
   "outputs": [
    {
     "name": "stdout",
     "output_type": "stream",
     "text": [
      "       trip_id customer_id      timestamp   pick_lat   pick_lng   drop_lat  \\\n",
      "0        ID001    CUST_001  1546709270211  17.442705  78.387878  17.457829   \n",
      "1        ID002    CUST_002  1546709309524  17.490189  78.415512  17.450548   \n",
      "2        ID003    CUST_003  1546709331857  17.370108  78.515045  17.377041   \n",
      "3        ID004    CUST_004  1546709358403  17.439314  78.443001  17.397131   \n",
      "4        ID005    CUST_005  1546709386884  17.432325  78.381966  17.401625   \n",
      "...        ...         ...            ...        ...        ...        ...   \n",
      "44582  ID44583  CUST_19137  1546531491044  17.443661  78.391968  17.451042   \n",
      "44583  ID44584  CUST_19138  1546531505869  17.439289  78.396118  17.449976   \n",
      "44584  ID44585   CUST_5061  1546531522103  17.363689  78.535194  17.374418   \n",
      "44585  ID44586  CUST_19139  1546531536429  17.401539  78.570076  17.416904   \n",
      "44586  ID44587  CUST_15562  1546531549938  17.385243  78.479896  17.394102   \n",
      "\n",
      "        drop_lng  travel_distance  travel_time  trip_fare  \n",
      "0      78.399056            2.806    12.609667         37  \n",
      "1      78.367294           11.991    24.075200        119  \n",
      "2      78.517921            1.322     8.708300         27  \n",
      "3      78.516586           11.822    24.037550        121  \n",
      "4      78.400032            6.978    16.120867         58  \n",
      "...          ...              ...          ...        ...  \n",
      "44582  78.371658            5.665    12.573883         55  \n",
      "44583  78.389160            9.292    17.937717         76  \n",
      "44584  78.529823            5.485    17.403850         55  \n",
      "44585  78.591362            2.326    14.236767         35  \n",
      "44586  78.499550            3.204     7.085400         37  \n",
      "\n",
      "[44587 rows x 10 columns]\n"
     ]
    }
   ],
   "source": [
    "print(data)"
   ]
  },
  {
   "cell_type": "markdown",
   "metadata": {},
   "source": [
    "The head method display sample data of a table .                                                                               From this we get overview of what kind of data present and in which format.\n",
    "It also shows no.of rows and columns.\n",
    "Findingd - Data contains information about the trips , riders ,  source & Destination location - latitude and longitude ,\n",
    "traval distance , travel time and trip fare for each trip\n"
   ]
  },
  {
   "cell_type": "code",
   "execution_count": 5,
   "metadata": {
    "scrolled": true
   },
   "outputs": [
    {
     "data": {
      "text/html": [
       "<div>\n",
       "<style scoped>\n",
       "    .dataframe tbody tr th:only-of-type {\n",
       "        vertical-align: middle;\n",
       "    }\n",
       "\n",
       "    .dataframe tbody tr th {\n",
       "        vertical-align: top;\n",
       "    }\n",
       "\n",
       "    .dataframe thead th {\n",
       "        text-align: right;\n",
       "    }\n",
       "</style>\n",
       "<table border=\"1\" class=\"dataframe\">\n",
       "  <thead>\n",
       "    <tr style=\"text-align: right;\">\n",
       "      <th></th>\n",
       "      <th>trip_id</th>\n",
       "      <th>customer_id</th>\n",
       "      <th>timestamp</th>\n",
       "      <th>pick_lat</th>\n",
       "      <th>pick_lng</th>\n",
       "      <th>drop_lat</th>\n",
       "      <th>drop_lng</th>\n",
       "      <th>travel_distance</th>\n",
       "      <th>travel_time</th>\n",
       "      <th>trip_fare</th>\n",
       "    </tr>\n",
       "  </thead>\n",
       "  <tbody>\n",
       "    <tr>\n",
       "      <td>0</td>\n",
       "      <td>ID001</td>\n",
       "      <td>CUST_001</td>\n",
       "      <td>1546709270211</td>\n",
       "      <td>17.442705</td>\n",
       "      <td>78.387878</td>\n",
       "      <td>17.457829</td>\n",
       "      <td>78.399056</td>\n",
       "      <td>2.806</td>\n",
       "      <td>12.609667</td>\n",
       "      <td>37</td>\n",
       "    </tr>\n",
       "    <tr>\n",
       "      <td>1</td>\n",
       "      <td>ID002</td>\n",
       "      <td>CUST_002</td>\n",
       "      <td>1546709309524</td>\n",
       "      <td>17.490189</td>\n",
       "      <td>78.415512</td>\n",
       "      <td>17.450548</td>\n",
       "      <td>78.367294</td>\n",
       "      <td>11.991</td>\n",
       "      <td>24.075200</td>\n",
       "      <td>119</td>\n",
       "    </tr>\n",
       "    <tr>\n",
       "      <td>2</td>\n",
       "      <td>ID003</td>\n",
       "      <td>CUST_003</td>\n",
       "      <td>1546709331857</td>\n",
       "      <td>17.370108</td>\n",
       "      <td>78.515045</td>\n",
       "      <td>17.377041</td>\n",
       "      <td>78.517921</td>\n",
       "      <td>1.322</td>\n",
       "      <td>8.708300</td>\n",
       "      <td>27</td>\n",
       "    </tr>\n",
       "    <tr>\n",
       "      <td>3</td>\n",
       "      <td>ID004</td>\n",
       "      <td>CUST_004</td>\n",
       "      <td>1546709358403</td>\n",
       "      <td>17.439314</td>\n",
       "      <td>78.443001</td>\n",
       "      <td>17.397131</td>\n",
       "      <td>78.516586</td>\n",
       "      <td>11.822</td>\n",
       "      <td>24.037550</td>\n",
       "      <td>121</td>\n",
       "    </tr>\n",
       "    <tr>\n",
       "      <td>4</td>\n",
       "      <td>ID005</td>\n",
       "      <td>CUST_005</td>\n",
       "      <td>1546709386884</td>\n",
       "      <td>17.432325</td>\n",
       "      <td>78.381966</td>\n",
       "      <td>17.401625</td>\n",
       "      <td>78.400032</td>\n",
       "      <td>6.978</td>\n",
       "      <td>16.120867</td>\n",
       "      <td>58</td>\n",
       "    </tr>\n",
       "    <tr>\n",
       "      <td>5</td>\n",
       "      <td>ID006</td>\n",
       "      <td>CUST_006</td>\n",
       "      <td>1546709396752</td>\n",
       "      <td>17.410667</td>\n",
       "      <td>78.497765</td>\n",
       "      <td>17.389835</td>\n",
       "      <td>78.490471</td>\n",
       "      <td>2.746</td>\n",
       "      <td>11.694133</td>\n",
       "      <td>36</td>\n",
       "    </tr>\n",
       "    <tr>\n",
       "      <td>6</td>\n",
       "      <td>ID007</td>\n",
       "      <td>CUST_007</td>\n",
       "      <td>1546709405732</td>\n",
       "      <td>17.421051</td>\n",
       "      <td>78.444443</td>\n",
       "      <td>17.425831</td>\n",
       "      <td>78.442467</td>\n",
       "      <td>1.256</td>\n",
       "      <td>3.956767</td>\n",
       "      <td>26</td>\n",
       "    </tr>\n",
       "    <tr>\n",
       "      <td>7</td>\n",
       "      <td>ID008</td>\n",
       "      <td>CUST_008</td>\n",
       "      <td>1546709420638</td>\n",
       "      <td>17.439323</td>\n",
       "      <td>78.443016</td>\n",
       "      <td>17.439299</td>\n",
       "      <td>78.460876</td>\n",
       "      <td>3.404</td>\n",
       "      <td>8.255017</td>\n",
       "      <td>39</td>\n",
       "    </tr>\n",
       "    <tr>\n",
       "      <td>8</td>\n",
       "      <td>ID009</td>\n",
       "      <td>CUST_009</td>\n",
       "      <td>1546709428819</td>\n",
       "      <td>17.385481</td>\n",
       "      <td>78.473694</td>\n",
       "      <td>17.374321</td>\n",
       "      <td>78.476166</td>\n",
       "      <td>1.382</td>\n",
       "      <td>4.651867</td>\n",
       "      <td>25</td>\n",
       "    </tr>\n",
       "    <tr>\n",
       "      <td>9</td>\n",
       "      <td>ID010</td>\n",
       "      <td>CUST_010</td>\n",
       "      <td>1546709432591</td>\n",
       "      <td>17.401064</td>\n",
       "      <td>78.418938</td>\n",
       "      <td>17.434597</td>\n",
       "      <td>78.501793</td>\n",
       "      <td>13.596</td>\n",
       "      <td>43.543183</td>\n",
       "      <td>142</td>\n",
       "    </tr>\n",
       "  </tbody>\n",
       "</table>\n",
       "</div>"
      ],
      "text/plain": [
       "  trip_id customer_id      timestamp   pick_lat   pick_lng   drop_lat  \\\n",
       "0   ID001    CUST_001  1546709270211  17.442705  78.387878  17.457829   \n",
       "1   ID002    CUST_002  1546709309524  17.490189  78.415512  17.450548   \n",
       "2   ID003    CUST_003  1546709331857  17.370108  78.515045  17.377041   \n",
       "3   ID004    CUST_004  1546709358403  17.439314  78.443001  17.397131   \n",
       "4   ID005    CUST_005  1546709386884  17.432325  78.381966  17.401625   \n",
       "5   ID006    CUST_006  1546709396752  17.410667  78.497765  17.389835   \n",
       "6   ID007    CUST_007  1546709405732  17.421051  78.444443  17.425831   \n",
       "7   ID008    CUST_008  1546709420638  17.439323  78.443016  17.439299   \n",
       "8   ID009    CUST_009  1546709428819  17.385481  78.473694  17.374321   \n",
       "9   ID010    CUST_010  1546709432591  17.401064  78.418938  17.434597   \n",
       "\n",
       "    drop_lng  travel_distance  travel_time  trip_fare  \n",
       "0  78.399056            2.806    12.609667         37  \n",
       "1  78.367294           11.991    24.075200        119  \n",
       "2  78.517921            1.322     8.708300         27  \n",
       "3  78.516586           11.822    24.037550        121  \n",
       "4  78.400032            6.978    16.120867         58  \n",
       "5  78.490471            2.746    11.694133         36  \n",
       "6  78.442467            1.256     3.956767         26  \n",
       "7  78.460876            3.404     8.255017         39  \n",
       "8  78.476166            1.382     4.651867         25  \n",
       "9  78.501793           13.596    43.543183        142  "
      ]
     },
     "execution_count": 5,
     "metadata": {},
     "output_type": "execute_result"
    }
   ],
   "source": [
    "data.head(10)"
   ]
  },
  {
   "cell_type": "markdown",
   "metadata": {},
   "source": [
    "This method is to check the variables type , no of Non-Null Values of the Variables                              \n",
    "Findings :\n",
    "     The variables trip_id , customer_id is in object type but it needs to be changed to String.\n",
    "     The timestamp in objects type and should be changed to datatime.\n",
    "     Other variables are in appropriate datatype."
   ]
  },
  {
   "cell_type": "code",
   "execution_count": 6,
   "metadata": {},
   "outputs": [
    {
     "name": "stdout",
     "output_type": "stream",
     "text": [
      "<class 'pandas.core.frame.DataFrame'>\n",
      "RangeIndex: 44587 entries, 0 to 44586\n",
      "Data columns (total 10 columns):\n",
      "trip_id            44587 non-null object\n",
      "customer_id        44587 non-null object\n",
      "timestamp          44587 non-null int64\n",
      "pick_lat           44587 non-null float64\n",
      "pick_lng           44587 non-null float64\n",
      "drop_lat           44587 non-null float64\n",
      "drop_lng           44587 non-null float64\n",
      "travel_distance    44587 non-null float64\n",
      "travel_time        44587 non-null float64\n",
      "trip_fare          44587 non-null int64\n",
      "dtypes: float64(6), int64(2), object(2)\n",
      "memory usage: 3.4+ MB\n"
     ]
    }
   ],
   "source": [
    "data.info()\n",
    " \n",
    "    "
   ]
  },
  {
   "cell_type": "code",
   "execution_count": 7,
   "metadata": {},
   "outputs": [],
   "source": [
    "data['trip_id'] = data['trip_id'].astype('str')\n",
    "data['customer_id'] = data['customer_id'].astype('str')\n"
   ]
  },
  {
   "cell_type": "code",
   "execution_count": 8,
   "metadata": {},
   "outputs": [
    {
     "data": {
      "text/html": [
       "<div>\n",
       "<style scoped>\n",
       "    .dataframe tbody tr th:only-of-type {\n",
       "        vertical-align: middle;\n",
       "    }\n",
       "\n",
       "    .dataframe tbody tr th {\n",
       "        vertical-align: top;\n",
       "    }\n",
       "\n",
       "    .dataframe thead th {\n",
       "        text-align: right;\n",
       "    }\n",
       "</style>\n",
       "<table border=\"1\" class=\"dataframe\">\n",
       "  <thead>\n",
       "    <tr style=\"text-align: right;\">\n",
       "      <th></th>\n",
       "      <th>trip_id</th>\n",
       "      <th>customer_id</th>\n",
       "      <th>timestamp</th>\n",
       "      <th>pick_lat</th>\n",
       "      <th>pick_lng</th>\n",
       "      <th>drop_lat</th>\n",
       "      <th>drop_lng</th>\n",
       "      <th>travel_distance</th>\n",
       "      <th>travel_time</th>\n",
       "      <th>trip_fare</th>\n",
       "    </tr>\n",
       "  </thead>\n",
       "  <tbody>\n",
       "    <tr>\n",
       "      <td>0</td>\n",
       "      <td>ID001</td>\n",
       "      <td>CUST_001</td>\n",
       "      <td>2019-01-05 17:27:50.211</td>\n",
       "      <td>17.442705</td>\n",
       "      <td>78.387878</td>\n",
       "      <td>17.457829</td>\n",
       "      <td>78.399056</td>\n",
       "      <td>2.806</td>\n",
       "      <td>12.609667</td>\n",
       "      <td>37</td>\n",
       "    </tr>\n",
       "    <tr>\n",
       "      <td>1</td>\n",
       "      <td>ID002</td>\n",
       "      <td>CUST_002</td>\n",
       "      <td>2019-01-05 17:28:29.524</td>\n",
       "      <td>17.490189</td>\n",
       "      <td>78.415512</td>\n",
       "      <td>17.450548</td>\n",
       "      <td>78.367294</td>\n",
       "      <td>11.991</td>\n",
       "      <td>24.075200</td>\n",
       "      <td>119</td>\n",
       "    </tr>\n",
       "    <tr>\n",
       "      <td>2</td>\n",
       "      <td>ID003</td>\n",
       "      <td>CUST_003</td>\n",
       "      <td>2019-01-05 17:28:51.857</td>\n",
       "      <td>17.370108</td>\n",
       "      <td>78.515045</td>\n",
       "      <td>17.377041</td>\n",
       "      <td>78.517921</td>\n",
       "      <td>1.322</td>\n",
       "      <td>8.708300</td>\n",
       "      <td>27</td>\n",
       "    </tr>\n",
       "    <tr>\n",
       "      <td>3</td>\n",
       "      <td>ID004</td>\n",
       "      <td>CUST_004</td>\n",
       "      <td>2019-01-05 17:29:18.403</td>\n",
       "      <td>17.439314</td>\n",
       "      <td>78.443001</td>\n",
       "      <td>17.397131</td>\n",
       "      <td>78.516586</td>\n",
       "      <td>11.822</td>\n",
       "      <td>24.037550</td>\n",
       "      <td>121</td>\n",
       "    </tr>\n",
       "    <tr>\n",
       "      <td>4</td>\n",
       "      <td>ID005</td>\n",
       "      <td>CUST_005</td>\n",
       "      <td>2019-01-05 17:29:46.884</td>\n",
       "      <td>17.432325</td>\n",
       "      <td>78.381966</td>\n",
       "      <td>17.401625</td>\n",
       "      <td>78.400032</td>\n",
       "      <td>6.978</td>\n",
       "      <td>16.120867</td>\n",
       "      <td>58</td>\n",
       "    </tr>\n",
       "  </tbody>\n",
       "</table>\n",
       "</div>"
      ],
      "text/plain": [
       "  trip_id customer_id               timestamp   pick_lat   pick_lng  \\\n",
       "0   ID001    CUST_001 2019-01-05 17:27:50.211  17.442705  78.387878   \n",
       "1   ID002    CUST_002 2019-01-05 17:28:29.524  17.490189  78.415512   \n",
       "2   ID003    CUST_003 2019-01-05 17:28:51.857  17.370108  78.515045   \n",
       "3   ID004    CUST_004 2019-01-05 17:29:18.403  17.439314  78.443001   \n",
       "4   ID005    CUST_005 2019-01-05 17:29:46.884  17.432325  78.381966   \n",
       "\n",
       "    drop_lat   drop_lng  travel_distance  travel_time  trip_fare  \n",
       "0  17.457829  78.399056            2.806    12.609667         37  \n",
       "1  17.450548  78.367294           11.991    24.075200        119  \n",
       "2  17.377041  78.517921            1.322     8.708300         27  \n",
       "3  17.397131  78.516586           11.822    24.037550        121  \n",
       "4  17.401625  78.400032            6.978    16.120867         58  "
      ]
     },
     "execution_count": 8,
     "metadata": {},
     "output_type": "execute_result"
    }
   ],
   "source": [
    " data['timestamp'] = pd.to_datetime(data['timestamp'],unit='ms')\n",
    "    \n",
    "data.head(5)\n"
   ]
  },
  {
   "cell_type": "code",
   "execution_count": 9,
   "metadata": {},
   "outputs": [
    {
     "name": "stdout",
     "output_type": "stream",
     "text": [
      "<class 'pandas.core.frame.DataFrame'>\n",
      "RangeIndex: 44587 entries, 0 to 44586\n",
      "Data columns (total 10 columns):\n",
      "trip_id            44587 non-null object\n",
      "customer_id        44587 non-null object\n",
      "timestamp          44587 non-null datetime64[ns]\n",
      "pick_lat           44587 non-null float64\n",
      "pick_lng           44587 non-null float64\n",
      "drop_lat           44587 non-null float64\n",
      "drop_lng           44587 non-null float64\n",
      "travel_distance    44587 non-null float64\n",
      "travel_time        44587 non-null float64\n",
      "trip_fare          44587 non-null int64\n",
      "dtypes: datetime64[ns](1), float64(6), int64(1), object(2)\n",
      "memory usage: 3.4+ MB\n"
     ]
    }
   ],
   "source": [
    "data.info()"
   ]
  },
  {
   "cell_type": "markdown",
   "metadata": {},
   "source": [
    "Let enter into DESCRIPTIVE STATISTICS :"
   ]
  },
  {
   "cell_type": "markdown",
   "metadata": {},
   "source": [
    "This method summarizes the average values , central tendency, dispersion and shape of a dataset’s distribution,\n",
    "Quartiles( 1st, 2nd , 3rd ) , min and maxvalues , excluding NaN values.\n",
    "\n",
    "Findings - It helps to identify  how data's are distibuted in each varibles.                                             \n",
    "           Negative value :\n",
    "                    There is a negative value in travel distance field, it may mean that we have to further investigate \n",
    "             since tavel time and trip fare are unlikely to be negative, and we may have to then clean the data.we will do\n",
    "             it in data cleaning section\n",
    "            Outliers :\n",
    "                    The max values for the numeric data(travel distance , travel time , trip fare) are quite far off \n",
    "            from the 75 percentile, indicating that we may have outliers.we have to process it."
   ]
  },
  {
   "cell_type": "code",
   "execution_count": 10,
   "metadata": {},
   "outputs": [
    {
     "data": {
      "text/html": [
       "<div>\n",
       "<style scoped>\n",
       "    .dataframe tbody tr th:only-of-type {\n",
       "        vertical-align: middle;\n",
       "    }\n",
       "\n",
       "    .dataframe tbody tr th {\n",
       "        vertical-align: top;\n",
       "    }\n",
       "\n",
       "    .dataframe thead th {\n",
       "        text-align: right;\n",
       "    }\n",
       "</style>\n",
       "<table border=\"1\" class=\"dataframe\">\n",
       "  <thead>\n",
       "    <tr style=\"text-align: right;\">\n",
       "      <th></th>\n",
       "      <th>pick_lat</th>\n",
       "      <th>pick_lng</th>\n",
       "      <th>drop_lat</th>\n",
       "      <th>drop_lng</th>\n",
       "      <th>travel_distance</th>\n",
       "      <th>travel_time</th>\n",
       "      <th>trip_fare</th>\n",
       "    </tr>\n",
       "  </thead>\n",
       "  <tbody>\n",
       "    <tr>\n",
       "      <td>count</td>\n",
       "      <td>44587.000000</td>\n",
       "      <td>44587.000000</td>\n",
       "      <td>44587.000000</td>\n",
       "      <td>44587.000000</td>\n",
       "      <td>44587.000000</td>\n",
       "      <td>44587.000000</td>\n",
       "      <td>44587.000000</td>\n",
       "    </tr>\n",
       "    <tr>\n",
       "      <td>mean</td>\n",
       "      <td>17.427919</td>\n",
       "      <td>78.435542</td>\n",
       "      <td>17.427891</td>\n",
       "      <td>78.434897</td>\n",
       "      <td>5.094359</td>\n",
       "      <td>15.819835</td>\n",
       "      <td>53.872833</td>\n",
       "    </tr>\n",
       "    <tr>\n",
       "      <td>std</td>\n",
       "      <td>0.030049</td>\n",
       "      <td>0.053333</td>\n",
       "      <td>0.037722</td>\n",
       "      <td>0.054965</td>\n",
       "      <td>3.365008</td>\n",
       "      <td>23.462865</td>\n",
       "      <td>33.430462</td>\n",
       "    </tr>\n",
       "    <tr>\n",
       "      <td>min</td>\n",
       "      <td>17.330339</td>\n",
       "      <td>78.308258</td>\n",
       "      <td>12.921696</td>\n",
       "      <td>77.548103</td>\n",
       "      <td>-1.000000</td>\n",
       "      <td>0.022750</td>\n",
       "      <td>20.000000</td>\n",
       "    </tr>\n",
       "    <tr>\n",
       "      <td>25%</td>\n",
       "      <td>17.405327</td>\n",
       "      <td>78.386562</td>\n",
       "      <td>17.405660</td>\n",
       "      <td>78.385010</td>\n",
       "      <td>2.744500</td>\n",
       "      <td>8.428525</td>\n",
       "      <td>36.000000</td>\n",
       "    </tr>\n",
       "    <tr>\n",
       "      <td>50%</td>\n",
       "      <td>17.432136</td>\n",
       "      <td>78.438866</td>\n",
       "      <td>17.431213</td>\n",
       "      <td>78.438164</td>\n",
       "      <td>4.299000</td>\n",
       "      <td>13.126250</td>\n",
       "      <td>46.000000</td>\n",
       "    </tr>\n",
       "    <tr>\n",
       "      <td>75%</td>\n",
       "      <td>17.446777</td>\n",
       "      <td>78.480839</td>\n",
       "      <td>17.446907</td>\n",
       "      <td>78.480255</td>\n",
       "      <td>6.679500</td>\n",
       "      <td>20.111167</td>\n",
       "      <td>60.000000</td>\n",
       "    </tr>\n",
       "    <tr>\n",
       "      <td>max</td>\n",
       "      <td>17.529791</td>\n",
       "      <td>78.600647</td>\n",
       "      <td>17.736155</td>\n",
       "      <td>78.634804</td>\n",
       "      <td>52.801000</td>\n",
       "      <td>4134.388700</td>\n",
       "      <td>1670.000000</td>\n",
       "    </tr>\n",
       "  </tbody>\n",
       "</table>\n",
       "</div>"
      ],
      "text/plain": [
       "           pick_lat      pick_lng      drop_lat      drop_lng  \\\n",
       "count  44587.000000  44587.000000  44587.000000  44587.000000   \n",
       "mean      17.427919     78.435542     17.427891     78.434897   \n",
       "std        0.030049      0.053333      0.037722      0.054965   \n",
       "min       17.330339     78.308258     12.921696     77.548103   \n",
       "25%       17.405327     78.386562     17.405660     78.385010   \n",
       "50%       17.432136     78.438866     17.431213     78.438164   \n",
       "75%       17.446777     78.480839     17.446907     78.480255   \n",
       "max       17.529791     78.600647     17.736155     78.634804   \n",
       "\n",
       "       travel_distance   travel_time     trip_fare  \n",
       "count     44587.000000  44587.000000  44587.000000  \n",
       "mean          5.094359     15.819835     53.872833  \n",
       "std           3.365008     23.462865     33.430462  \n",
       "min          -1.000000      0.022750     20.000000  \n",
       "25%           2.744500      8.428525     36.000000  \n",
       "50%           4.299000     13.126250     46.000000  \n",
       "75%           6.679500     20.111167     60.000000  \n",
       "max          52.801000   4134.388700   1670.000000  "
      ]
     },
     "execution_count": 10,
     "metadata": {},
     "output_type": "execute_result"
    }
   ],
   "source": [
    "data.describe()\n"
   ]
  },
  {
   "cell_type": "markdown",
   "metadata": {},
   "source": [
    "Data Visualization :\n",
    "        As we are going to use Trvel_distance , travel_time and trip_fare Check visually how the values are distributed."
   ]
  },
  {
   "cell_type": "code",
   "execution_count": 11,
   "metadata": {},
   "outputs": [
    {
     "data": {
      "text/plain": [
       "<matplotlib.axes._subplots.AxesSubplot at 0xb545da3988>"
      ]
     },
     "execution_count": 11,
     "metadata": {},
     "output_type": "execute_result"
    },
    {
     "data": {
      "image/png": "[encoded data removed]",
      "text/plain": [
       "<Figure size 1080x720 with 1 Axes>"
      ]
     },
     "metadata": {
      "needs_background": "light"
     },
     "output_type": "display_data"
    }
   ],
   "source": [
    "plt.figure(figsize=(15,10))\n",
    "plt.tight_layout()\n",
    "seabornInstance.distplot(data['trip_fare'])"
   ]
  },
  {
   "cell_type": "markdown",
   "metadata": {},
   "source": [
    "Findings :\n",
    "         As we seen earlier in descritive statistics , Trip fare variable contains lot of outlier values .\n",
    "        Trip fare is not Normally distributed ,there is Positve skewness in the data .Most datapoints are on right tail .\n",
    "        Positive Skewness means when the tail on the right side of the distribution is longer or fatter. The mean and median will be greater than the mode.\n",
    "        There also high kurtosis .It mean data set is an indicator that data has heavy tails or outliers. \n",
    "        Then we need to investigate why do we have so many outliers.\n",
    "       It needs to be processed before data modelling to find best fit model."
   ]
  },
  {
   "cell_type": "code",
   "execution_count": 12,
   "metadata": {},
   "outputs": [
    {
     "data": {
      "text/plain": [
       "<matplotlib.axes._subplots.AxesSubplot at 0xb546407648>"
      ]
     },
     "execution_count": 12,
     "metadata": {},
     "output_type": "execute_result"
    },
    {
     "data": {
      "image/png": "[encoded data removed]",
      "text/plain": [
       "<Figure size 1080x720 with 1 Axes>"
      ]
     },
     "metadata": {
      "needs_background": "light"
     },
     "output_type": "display_data"
    }
   ],
   "source": [
    "plt.figure(figsize=(15,10))\n",
    "plt.tight_layout()\n",
    "seabornInstance.distplot(data['travel_distance'])"
   ]
  },
  {
   "cell_type": "markdown",
   "metadata": {},
   "source": [
    "Findings - \n",
    "       Travel distance also contains outliers but less compared to trip fare .\n",
    "        It is positively skewed .\n",
    "        It need to be processed."
   ]
  },
  {
   "cell_type": "code",
   "execution_count": 13,
   "metadata": {},
   "outputs": [
    {
     "data": {
      "text/plain": [
       "(0, 150)"
      ]
     },
     "execution_count": 13,
     "metadata": {},
     "output_type": "execute_result"
    },
    {
     "data": {
      "image/png": "[encoded data removed]",
      "text/plain": [
       "<Figure size 432x288 with 1 Axes>"
      ]
     },
     "metadata": {
      "needs_background": "light"
     },
     "output_type": "display_data"
    }
   ],
   "source": [
    "data['travel_time'].hist(bins=1000)\n",
    "plt.xlabel(\"Travel Time\", fontsize=15)\n",
    "plt.ylabel(\"Frequency\",fontsize=15)\n",
    "plt.xlim([0,150])"
   ]
  },
  {
   "cell_type": "markdown",
   "metadata": {},
   "source": [
    "Findings :\n",
    "        Travel time doesn't contain much outliers as compared to travel distance and travel time .\n",
    "        Normally Distributed . Most of the values are closer to mean .\n",
    "        As we see in descriptive statistics , its max value is approximately 4000 . It mean that there may br possibility for \n",
    "        for some extreme values . It will be processed in Outlier Detection."
   ]
  },
  {
   "cell_type": "markdown",
   "metadata": {},
   "source": [
    "Let Do DATA CLEANING :\n",
    "     Data Cleaning is the most important part in data Science . Result of projects depends on how clean the dataset .\n",
    "    "
   ]
  },
  {
   "cell_type": "markdown",
   "metadata": {},
   "source": [
    "REMOVING NEGATIVE VALUES :\n",
    "       In field travel distance the is negative and make it as zero.\n",
    "     "
   ]
  },
  {
   "cell_type": "code",
   "execution_count": 14,
   "metadata": {},
   "outputs": [],
   "source": [
    "data[data['travel_distance']<0] = 0"
   ]
  },
  {
   "cell_type": "markdown",
   "metadata": {},
   "source": [
    "After Removing negtive values"
   ]
  },
  {
   "cell_type": "code",
   "execution_count": 15,
   "metadata": {},
   "outputs": [
    {
     "data": {
      "text/html": [
       "<div>\n",
       "<style scoped>\n",
       "    .dataframe tbody tr th:only-of-type {\n",
       "        vertical-align: middle;\n",
       "    }\n",
       "\n",
       "    .dataframe tbody tr th {\n",
       "        vertical-align: top;\n",
       "    }\n",
       "\n",
       "    .dataframe thead th {\n",
       "        text-align: right;\n",
       "    }\n",
       "</style>\n",
       "<table border=\"1\" class=\"dataframe\">\n",
       "  <thead>\n",
       "    <tr style=\"text-align: right;\">\n",
       "      <th></th>\n",
       "      <th>pick_lat</th>\n",
       "      <th>pick_lng</th>\n",
       "      <th>drop_lat</th>\n",
       "      <th>drop_lng</th>\n",
       "      <th>travel_distance</th>\n",
       "      <th>travel_time</th>\n",
       "      <th>trip_fare</th>\n",
       "    </tr>\n",
       "  </thead>\n",
       "  <tbody>\n",
       "    <tr>\n",
       "      <td>count</td>\n",
       "      <td>44587.000000</td>\n",
       "      <td>44587.000000</td>\n",
       "      <td>44587.000000</td>\n",
       "      <td>44587.000000</td>\n",
       "      <td>44587.000000</td>\n",
       "      <td>44587.000000</td>\n",
       "      <td>44587.000000</td>\n",
       "    </tr>\n",
       "    <tr>\n",
       "      <td>mean</td>\n",
       "      <td>17.426747</td>\n",
       "      <td>78.430266</td>\n",
       "      <td>17.426719</td>\n",
       "      <td>78.429621</td>\n",
       "      <td>5.094427</td>\n",
       "      <td>15.818891</td>\n",
       "      <td>53.808307</td>\n",
       "    </tr>\n",
       "    <tr>\n",
       "      <td>std</td>\n",
       "      <td>0.146077</td>\n",
       "      <td>0.645575</td>\n",
       "      <td>0.147845</td>\n",
       "      <td>0.645706</td>\n",
       "      <td>3.364896</td>\n",
       "      <td>23.463200</td>\n",
       "      <td>32.598509</td>\n",
       "    </tr>\n",
       "    <tr>\n",
       "      <td>min</td>\n",
       "      <td>0.000000</td>\n",
       "      <td>0.000000</td>\n",
       "      <td>0.000000</td>\n",
       "      <td>0.000000</td>\n",
       "      <td>0.000000</td>\n",
       "      <td>0.000000</td>\n",
       "      <td>0.000000</td>\n",
       "    </tr>\n",
       "    <tr>\n",
       "      <td>25%</td>\n",
       "      <td>17.405323</td>\n",
       "      <td>78.386559</td>\n",
       "      <td>17.405656</td>\n",
       "      <td>78.385010</td>\n",
       "      <td>2.744500</td>\n",
       "      <td>8.427475</td>\n",
       "      <td>36.000000</td>\n",
       "    </tr>\n",
       "    <tr>\n",
       "      <td>50%</td>\n",
       "      <td>17.432118</td>\n",
       "      <td>78.438858</td>\n",
       "      <td>17.431204</td>\n",
       "      <td>78.438164</td>\n",
       "      <td>4.299000</td>\n",
       "      <td>13.125017</td>\n",
       "      <td>46.000000</td>\n",
       "    </tr>\n",
       "    <tr>\n",
       "      <td>75%</td>\n",
       "      <td>17.446777</td>\n",
       "      <td>78.480839</td>\n",
       "      <td>17.446906</td>\n",
       "      <td>78.480251</td>\n",
       "      <td>6.679500</td>\n",
       "      <td>20.111167</td>\n",
       "      <td>60.000000</td>\n",
       "    </tr>\n",
       "    <tr>\n",
       "      <td>max</td>\n",
       "      <td>17.529791</td>\n",
       "      <td>78.600647</td>\n",
       "      <td>17.736155</td>\n",
       "      <td>78.634804</td>\n",
       "      <td>52.801000</td>\n",
       "      <td>4134.388700</td>\n",
       "      <td>1670.000000</td>\n",
       "    </tr>\n",
       "  </tbody>\n",
       "</table>\n",
       "</div>"
      ],
      "text/plain": [
       "           pick_lat      pick_lng      drop_lat      drop_lng  \\\n",
       "count  44587.000000  44587.000000  44587.000000  44587.000000   \n",
       "mean      17.426747     78.430266     17.426719     78.429621   \n",
       "std        0.146077      0.645575      0.147845      0.645706   \n",
       "min        0.000000      0.000000      0.000000      0.000000   \n",
       "25%       17.405323     78.386559     17.405656     78.385010   \n",
       "50%       17.432118     78.438858     17.431204     78.438164   \n",
       "75%       17.446777     78.480839     17.446906     78.480251   \n",
       "max       17.529791     78.600647     17.736155     78.634804   \n",
       "\n",
       "       travel_distance   travel_time     trip_fare  \n",
       "count     44587.000000  44587.000000  44587.000000  \n",
       "mean          5.094427     15.818891     53.808307  \n",
       "std           3.364896     23.463200     32.598509  \n",
       "min           0.000000      0.000000      0.000000  \n",
       "25%           2.744500      8.427475     36.000000  \n",
       "50%           4.299000     13.125017     46.000000  \n",
       "75%           6.679500     20.111167     60.000000  \n",
       "max          52.801000   4134.388700   1670.000000  "
      ]
     },
     "execution_count": 15,
     "metadata": {},
     "output_type": "execute_result"
    }
   ],
   "source": [
    "data.describe()"
   ]
  },
  {
   "cell_type": "markdown",
   "metadata": {},
   "source": [
    "Extracting  columns for data Modelling without romoving columns from main table "
   ]
  },
  {
   "cell_type": "code",
   "execution_count": 16,
   "metadata": {},
   "outputs": [],
   "source": [
    "data_model = data[['trip_id','customer_id','travel_distance','travel_time','trip_fare']]\n"
   ]
  },
  {
   "cell_type": "code",
   "execution_count": 17,
   "metadata": {},
   "outputs": [
    {
     "name": "stdout",
     "output_type": "stream",
     "text": [
      "<class 'pandas.core.frame.DataFrame'>\n",
      "RangeIndex: 44587 entries, 0 to 44586\n",
      "Data columns (total 5 columns):\n",
      "trip_id            44587 non-null object\n",
      "customer_id        44587 non-null object\n",
      "travel_distance    44587 non-null float64\n",
      "travel_time        44587 non-null float64\n",
      "trip_fare          44587 non-null int64\n",
      "dtypes: float64(2), int64(1), object(2)\n",
      "memory usage: 1.7+ MB\n"
     ]
    }
   ],
   "source": [
    "data_model.info()"
   ]
  },
  {
   "cell_type": "markdown",
   "metadata": {},
   "source": [
    "1  : Dropping the duplicate rows\n",
    "          Duplicate values mult be dropped to reduce overhead of data size \n",
    "        \n",
    "Findings - NO Duplicate rows present in data set.Good to go "
   ]
  },
  {
   "cell_type": "code",
   "execution_count": 18,
   "metadata": {},
   "outputs": [
    {
     "name": "stdout",
     "output_type": "stream",
     "text": [
      "NO. OF Duplicate rows (2, 10)\n"
     ]
    }
   ],
   "source": [
    "\n",
    "duplicate_rows_data = data[data.duplicated()]\n",
    "print(\"NO. OF Duplicate rows\" , duplicate_rows_data.shape)"
   ]
  },
  {
   "cell_type": "code",
   "execution_count": 19,
   "metadata": {},
   "outputs": [],
   "source": [
    "data.drop_duplicates( keep = 'first', inplace = True) "
   ]
  },
  {
   "cell_type": "code",
   "execution_count": 20,
   "metadata": {},
   "outputs": [
    {
     "data": {
      "text/plain": [
       "(44585, 10)"
      ]
     },
     "execution_count": 20,
     "metadata": {},
     "output_type": "execute_result"
    }
   ],
   "source": [
    "data.shape"
   ]
  },
  {
   "cell_type": "markdown",
   "metadata": {},
   "source": [
    "2  : Checking NULL/Missing Values\n",
    "            Null Values shold be removed to increase accuracy of prediction \n",
    "    TWO approaches to handle missing values \n",
    "        a ) Romove rows or cloumns \n",
    "        b)  Replace with another values\n",
    "        \n",
    "Findings - hurrah!!! the dataset doesn't contain any null values and its a good sign of clean dataset "
   ]
  },
  {
   "cell_type": "code",
   "execution_count": 21,
   "metadata": {},
   "outputs": [
    {
     "data": {
      "text/plain": [
       "trip_fare          0\n",
       "travel_time        0\n",
       "travel_distance    0\n",
       "customer_id        0\n",
       "trip_id            0\n",
       "dtype: int64"
      ]
     },
     "execution_count": 21,
     "metadata": {},
     "output_type": "execute_result"
    }
   ],
   "source": [
    "Total_missing = data_model.isnull().sum().sort_values(ascending=False)\n",
    "Total_missing"
   ]
  },
  {
   "cell_type": "code",
   "execution_count": 22,
   "metadata": {},
   "outputs": [
    {
     "data": {
      "text/html": [
       "<div>\n",
       "<style scoped>\n",
       "    .dataframe tbody tr th:only-of-type {\n",
       "        vertical-align: middle;\n",
       "    }\n",
       "\n",
       "    .dataframe tbody tr th {\n",
       "        vertical-align: top;\n",
       "    }\n",
       "\n",
       "    .dataframe thead th {\n",
       "        text-align: right;\n",
       "    }\n",
       "</style>\n",
       "<table border=\"1\" class=\"dataframe\">\n",
       "  <thead>\n",
       "    <tr style=\"text-align: right;\">\n",
       "      <th></th>\n",
       "      <th>trip_id</th>\n",
       "      <th>customer_id</th>\n",
       "      <th>travel_distance</th>\n",
       "      <th>travel_time</th>\n",
       "      <th>trip_fare</th>\n",
       "    </tr>\n",
       "  </thead>\n",
       "  <tbody>\n",
       "    <tr>\n",
       "      <td>0</td>\n",
       "      <td>ID001</td>\n",
       "      <td>CUST_001</td>\n",
       "      <td>2.806</td>\n",
       "      <td>12.609667</td>\n",
       "      <td>37</td>\n",
       "    </tr>\n",
       "    <tr>\n",
       "      <td>1</td>\n",
       "      <td>ID002</td>\n",
       "      <td>CUST_002</td>\n",
       "      <td>11.991</td>\n",
       "      <td>24.075200</td>\n",
       "      <td>119</td>\n",
       "    </tr>\n",
       "    <tr>\n",
       "      <td>2</td>\n",
       "      <td>ID003</td>\n",
       "      <td>CUST_003</td>\n",
       "      <td>1.322</td>\n",
       "      <td>8.708300</td>\n",
       "      <td>27</td>\n",
       "    </tr>\n",
       "    <tr>\n",
       "      <td>3</td>\n",
       "      <td>ID004</td>\n",
       "      <td>CUST_004</td>\n",
       "      <td>11.822</td>\n",
       "      <td>24.037550</td>\n",
       "      <td>121</td>\n",
       "    </tr>\n",
       "    <tr>\n",
       "      <td>4</td>\n",
       "      <td>ID005</td>\n",
       "      <td>CUST_005</td>\n",
       "      <td>6.978</td>\n",
       "      <td>16.120867</td>\n",
       "      <td>58</td>\n",
       "    </tr>\n",
       "  </tbody>\n",
       "</table>\n",
       "</div>"
      ],
      "text/plain": [
       "  trip_id customer_id  travel_distance  travel_time  trip_fare\n",
       "0   ID001    CUST_001            2.806    12.609667         37\n",
       "1   ID002    CUST_002           11.991    24.075200        119\n",
       "2   ID003    CUST_003            1.322     8.708300         27\n",
       "3   ID004    CUST_004           11.822    24.037550        121\n",
       "4   ID005    CUST_005            6.978    16.120867         58"
      ]
     },
     "execution_count": 22,
     "metadata": {},
     "output_type": "execute_result"
    }
   ],
   "source": [
    "data_model.head(5)"
   ]
  },
  {
   "cell_type": "markdown",
   "metadata": {},
   "source": [
    "4 : OUTLIER DETECTION\n",
    "          An outlier is a point or set of points that are different from other points.They can be very high or very low.\n",
    "          It’s often a good idea to detect and remove the outliers.\n",
    "          Because outliers are one of the primary reasons for resulting in a less accurate model. \n",
    "          Hence it’s a good idea to remove them. \n",
    "          Approach :\n",
    "                Our dataset has numerical Values , so i am going to use IQR(Inter Quartile Range) to detect outliers.\n",
    "                \n",
    "                "
   ]
  },
  {
   "cell_type": "markdown",
   "metadata": {},
   "source": [
    "Box plot \n",
    "     Box plot Visualization technique is used to detect outliers visually \n",
    "     For Modelling Travel time , Travel Distance , trip Fare (prediction variable) is used ,so we are going to find outlers \n",
    "        in these varibles\n",
    "Findings : \n",
    "     There are few outliers in all the three variables and its good to romove for better prediction "
   ]
  },
  {
   "cell_type": "code",
   "execution_count": 23,
   "metadata": {},
   "outputs": [
    {
     "data": {
      "text/html": [
       "<div>\n",
       "<style scoped>\n",
       "    .dataframe tbody tr th:only-of-type {\n",
       "        vertical-align: middle;\n",
       "    }\n",
       "\n",
       "    .dataframe tbody tr th {\n",
       "        vertical-align: top;\n",
       "    }\n",
       "\n",
       "    .dataframe thead th {\n",
       "        text-align: right;\n",
       "    }\n",
       "</style>\n",
       "<table border=\"1\" class=\"dataframe\">\n",
       "  <thead>\n",
       "    <tr style=\"text-align: right;\">\n",
       "      <th></th>\n",
       "      <th>trip_id</th>\n",
       "      <th>customer_id</th>\n",
       "      <th>timestamp</th>\n",
       "      <th>pick_lat</th>\n",
       "      <th>pick_lng</th>\n",
       "      <th>drop_lat</th>\n",
       "      <th>drop_lng</th>\n",
       "      <th>travel_distance</th>\n",
       "      <th>travel_time</th>\n",
       "      <th>trip_fare</th>\n",
       "    </tr>\n",
       "  </thead>\n",
       "  <tbody>\n",
       "    <tr>\n",
       "      <td>0</td>\n",
       "      <td>ID001</td>\n",
       "      <td>CUST_001</td>\n",
       "      <td>2019-01-05 17:27:50.211000</td>\n",
       "      <td>17.442705</td>\n",
       "      <td>78.387878</td>\n",
       "      <td>17.457829</td>\n",
       "      <td>78.399056</td>\n",
       "      <td>2.806</td>\n",
       "      <td>12.609667</td>\n",
       "      <td>37</td>\n",
       "    </tr>\n",
       "    <tr>\n",
       "      <td>1</td>\n",
       "      <td>ID002</td>\n",
       "      <td>CUST_002</td>\n",
       "      <td>2019-01-05 17:28:29.524000</td>\n",
       "      <td>17.490189</td>\n",
       "      <td>78.415512</td>\n",
       "      <td>17.450548</td>\n",
       "      <td>78.367294</td>\n",
       "      <td>11.991</td>\n",
       "      <td>24.075200</td>\n",
       "      <td>119</td>\n",
       "    </tr>\n",
       "  </tbody>\n",
       "</table>\n",
       "</div>"
      ],
      "text/plain": [
       "  trip_id customer_id                   timestamp   pick_lat   pick_lng  \\\n",
       "0   ID001    CUST_001  2019-01-05 17:27:50.211000  17.442705  78.387878   \n",
       "1   ID002    CUST_002  2019-01-05 17:28:29.524000  17.490189  78.415512   \n",
       "\n",
       "    drop_lat   drop_lng  travel_distance  travel_time  trip_fare  \n",
       "0  17.457829  78.399056            2.806    12.609667         37  \n",
       "1  17.450548  78.367294           11.991    24.075200        119  "
      ]
     },
     "execution_count": 23,
     "metadata": {},
     "output_type": "execute_result"
    }
   ],
   "source": [
    "data.columns\n",
    "data.head(2)"
   ]
  },
  {
   "cell_type": "code",
   "execution_count": 24,
   "metadata": {},
   "outputs": [
    {
     "data": {
      "text/plain": [
       "<matplotlib.axes._subplots.AxesSubplot at 0xb545e0c088>"
      ]
     },
     "execution_count": 24,
     "metadata": {},
     "output_type": "execute_result"
    },
    {
     "data": {
      "image/png": "[encoded data removed]",
      "text/plain": [
       "<Figure size 432x288 with 1 Axes>"
      ]
     },
     "metadata": {
      "needs_background": "light"
     },
     "output_type": "display_data"
    }
   ],
   "source": [
    "\n",
    "sns.boxplot(x=data['travel_distance'])\n"
   ]
  },
  {
   "cell_type": "code",
   "execution_count": 25,
   "metadata": {},
   "outputs": [
    {
     "data": {
      "text/plain": [
       "<matplotlib.axes._subplots.AxesSubplot at 0xb544c0a708>"
      ]
     },
     "execution_count": 25,
     "metadata": {},
     "output_type": "execute_result"
    },
    {
     "data": {
      "image/png": "[encoded data removed]",
      "text/plain": [
       "<Figure size 432x288 with 1 Axes>"
      ]
     },
     "metadata": {
      "needs_background": "light"
     },
     "output_type": "display_data"
    }
   ],
   "source": [
    "sns.boxplot(x=data['travel_time'])"
   ]
  },
  {
   "cell_type": "code",
   "execution_count": 26,
   "metadata": {},
   "outputs": [
    {
     "data": {
      "text/plain": [
       "<matplotlib.axes._subplots.AxesSubplot at 0xb544c18448>"
      ]
     },
     "execution_count": 26,
     "metadata": {},
     "output_type": "execute_result"
    },
    {
     "data": {
      "image/png": "[encoded data removed]",
      "text/plain": [
       "<Figure size 432x288 with 1 Axes>"
      ]
     },
     "metadata": {
      "needs_background": "light"
     },
     "output_type": "display_data"
    }
   ],
   "source": [
    "sns.boxplot(x=data['trip_fare'])"
   ]
  },
  {
   "cell_type": "markdown",
   "metadata": {},
   "source": [
    "IQR :\n",
    "    IQR is to find outliers such that when a certain values are  less than (<) Quantile_1 - 1.5 * IQR  or\n",
    "     greater than (>) Quantile_3 + 1.5*IQR where consider as outlier values\n",
    "        \n",
    "Findings :\n",
    "     The dataset contains approximately 4K rows of outlier values and its has been romoved"
   ]
  },
  {
   "cell_type": "code",
   "execution_count": 27,
   "metadata": {},
   "outputs": [
    {
     "name": "stdout",
     "output_type": "stream",
     "text": [
      "travel_distance     3.935000\n",
      "travel_time        11.683692\n",
      "trip_fare          24.000000\n",
      "dtype: float64\n"
     ]
    }
   ],
   "source": [
    "Quantile_1 = data_model.quantile(0.25)\n",
    "Quantile_3 = data_model.quantile(0.75)\n",
    "IQR = Quantile_3 - Quantile_1\n",
    "print(IQR)\n"
   ]
  },
  {
   "cell_type": "code",
   "execution_count": 28,
   "metadata": {},
   "outputs": [
    {
     "data": {
      "text/plain": [
       "(40709, 5)"
      ]
     },
     "execution_count": 28,
     "metadata": {},
     "output_type": "execute_result"
    }
   ],
   "source": [
    "data_model= data_model[~((data_model < (Quantile_1 - 1.5 * IQR)) |(data_model > (Quantile_3 + 1.5 * IQR))).any(axis=1)]\n",
    "data_model.shape"
   ]
  },
  {
   "cell_type": "markdown",
   "metadata": {},
   "source": [
    "PART 2 : METRIC CALCULATION "
   ]
  },
  {
   "cell_type": "code",
   "execution_count": 29,
   "metadata": {},
   "outputs": [
    {
     "data": {
      "text/plain": [
       "(44585, 6)"
      ]
     },
     "execution_count": 29,
     "metadata": {},
     "output_type": "execute_result"
    }
   ],
   "source": [
    "data_metric = data[['trip_id', 'customer_id','timestamp','travel_distance','travel_time','trip_fare']]\n",
    "data_metric.shape"
   ]
  },
  {
   "cell_type": "code",
   "execution_count": 30,
   "metadata": {},
   "outputs": [
    {
     "data": {
      "text/plain": [
       "(34575, 6)"
      ]
     },
     "execution_count": 30,
     "metadata": {},
     "output_type": "execute_result"
    }
   ],
   "source": [
    "data_metric = data_metric[data_metric['customer_id'].map(data_metric['customer_id'].value_counts()) > 1]\n",
    "data_metric.shape"
   ]
  },
  {
   "cell_type": "code",
   "execution_count": 31,
   "metadata": {},
   "outputs": [
    {
     "data": {
      "text/plain": [
       "(34575, 6)"
      ]
     },
     "execution_count": 31,
     "metadata": {},
     "output_type": "execute_result"
    }
   ],
   "source": [
    "data_metric.shape"
   ]
  },
  {
   "cell_type": "code",
   "execution_count": 32,
   "metadata": {},
   "outputs": [],
   "source": [
    "data_filter =data_metric.groupby('customer_id').apply(lambda x: x.sort_values([\"trip_id\"],ascending=True)).reset_index(drop=True).groupby(['customer_id']).head(2)\n"
   ]
  },
  {
   "cell_type": "code",
   "execution_count": 33,
   "metadata": {},
   "outputs": [
    {
     "data": {
      "text/html": [
       "<div>\n",
       "<style scoped>\n",
       "    .dataframe tbody tr th:only-of-type {\n",
       "        vertical-align: middle;\n",
       "    }\n",
       "\n",
       "    .dataframe tbody tr th {\n",
       "        vertical-align: top;\n",
       "    }\n",
       "\n",
       "    .dataframe thead th {\n",
       "        text-align: right;\n",
       "    }\n",
       "</style>\n",
       "<table border=\"1\" class=\"dataframe\">\n",
       "  <thead>\n",
       "    <tr style=\"text-align: right;\">\n",
       "      <th></th>\n",
       "      <th>trip_id</th>\n",
       "      <th>customer_id</th>\n",
       "      <th>timestamp</th>\n",
       "      <th>travel_distance</th>\n",
       "      <th>travel_time</th>\n",
       "      <th>trip_fare</th>\n",
       "    </tr>\n",
       "  </thead>\n",
       "  <tbody>\n",
       "    <tr>\n",
       "      <td>0</td>\n",
       "      <td>ID001</td>\n",
       "      <td>CUST_001</td>\n",
       "      <td>2019-01-05 17:27:50.211000</td>\n",
       "      <td>2.806</td>\n",
       "      <td>12.609667</td>\n",
       "      <td>37</td>\n",
       "    </tr>\n",
       "    <tr>\n",
       "      <td>1</td>\n",
       "      <td>ID1390</td>\n",
       "      <td>CUST_001</td>\n",
       "      <td>2019-01-07 14:24:43.066000</td>\n",
       "      <td>10.624</td>\n",
       "      <td>26.600417</td>\n",
       "      <td>99</td>\n",
       "    </tr>\n",
       "    <tr>\n",
       "      <td>8</td>\n",
       "      <td>ID003</td>\n",
       "      <td>CUST_003</td>\n",
       "      <td>2019-01-05 17:28:51.857000</td>\n",
       "      <td>1.322</td>\n",
       "      <td>8.708300</td>\n",
       "      <td>27</td>\n",
       "    </tr>\n",
       "    <tr>\n",
       "      <td>9</td>\n",
       "      <td>ID3018</td>\n",
       "      <td>CUST_003</td>\n",
       "      <td>2019-01-07 18:13:40.138000</td>\n",
       "      <td>1.156</td>\n",
       "      <td>3.172717</td>\n",
       "      <td>26</td>\n",
       "    </tr>\n",
       "    <tr>\n",
       "      <td>14</td>\n",
       "      <td>ID004</td>\n",
       "      <td>CUST_004</td>\n",
       "      <td>2019-01-05 17:29:18.403000</td>\n",
       "      <td>11.822</td>\n",
       "      <td>24.037550</td>\n",
       "      <td>121</td>\n",
       "    </tr>\n",
       "    <tr>\n",
       "      <td>...</td>\n",
       "      <td>...</td>\n",
       "      <td>...</td>\n",
       "      <td>...</td>\n",
       "      <td>...</td>\n",
       "      <td>...</td>\n",
       "      <td>...</td>\n",
       "    </tr>\n",
       "    <tr>\n",
       "      <td>34564</td>\n",
       "      <td>ID20886</td>\n",
       "      <td>CUST_9994</td>\n",
       "      <td>2019-01-02 13:42:11.907000</td>\n",
       "      <td>5.730</td>\n",
       "      <td>15.183967</td>\n",
       "      <td>50</td>\n",
       "    </tr>\n",
       "    <tr>\n",
       "      <td>34569</td>\n",
       "      <td>ID15427</td>\n",
       "      <td>CUST_9997</td>\n",
       "      <td>2019-01-02 02:52:06.693000</td>\n",
       "      <td>2.767</td>\n",
       "      <td>8.931100</td>\n",
       "      <td>35</td>\n",
       "    </tr>\n",
       "    <tr>\n",
       "      <td>34570</td>\n",
       "      <td>ID17906</td>\n",
       "      <td>CUST_9997</td>\n",
       "      <td>2019-01-02 07:16:29.037000</td>\n",
       "      <td>3.650</td>\n",
       "      <td>10.519383</td>\n",
       "      <td>44</td>\n",
       "    </tr>\n",
       "    <tr>\n",
       "      <td>34572</td>\n",
       "      <td>ID15428</td>\n",
       "      <td>CUST_9998</td>\n",
       "      <td>2019-01-02 02:52:12.749000</td>\n",
       "      <td>2.340</td>\n",
       "      <td>5.758983</td>\n",
       "      <td>34</td>\n",
       "    </tr>\n",
       "    <tr>\n",
       "      <td>34573</td>\n",
       "      <td>ID16329</td>\n",
       "      <td>CUST_9998</td>\n",
       "      <td>2019-01-02 04:19:48.597000</td>\n",
       "      <td>0.000</td>\n",
       "      <td>0.078683</td>\n",
       "      <td>20</td>\n",
       "    </tr>\n",
       "  </tbody>\n",
       "</table>\n",
       "<p>18258 rows × 6 columns</p>\n",
       "</div>"
      ],
      "text/plain": [
       "       trip_id customer_id                   timestamp  travel_distance  \\\n",
       "0        ID001    CUST_001  2019-01-05 17:27:50.211000            2.806   \n",
       "1       ID1390    CUST_001  2019-01-07 14:24:43.066000           10.624   \n",
       "8        ID003    CUST_003  2019-01-05 17:28:51.857000            1.322   \n",
       "9       ID3018    CUST_003  2019-01-07 18:13:40.138000            1.156   \n",
       "14       ID004    CUST_004  2019-01-05 17:29:18.403000           11.822   \n",
       "...        ...         ...                         ...              ...   \n",
       "34564  ID20886   CUST_9994  2019-01-02 13:42:11.907000            5.730   \n",
       "34569  ID15427   CUST_9997  2019-01-02 02:52:06.693000            2.767   \n",
       "34570  ID17906   CUST_9997  2019-01-02 07:16:29.037000            3.650   \n",
       "34572  ID15428   CUST_9998  2019-01-02 02:52:12.749000            2.340   \n",
       "34573  ID16329   CUST_9998  2019-01-02 04:19:48.597000            0.000   \n",
       "\n",
       "       travel_time  trip_fare  \n",
       "0        12.609667         37  \n",
       "1        26.600417         99  \n",
       "8         8.708300         27  \n",
       "9         3.172717         26  \n",
       "14       24.037550        121  \n",
       "...            ...        ...  \n",
       "34564    15.183967         50  \n",
       "34569     8.931100         35  \n",
       "34570    10.519383         44  \n",
       "34572     5.758983         34  \n",
       "34573     0.078683         20  \n",
       "\n",
       "[18258 rows x 6 columns]"
      ]
     },
     "execution_count": 33,
     "metadata": {},
     "output_type": "execute_result"
    }
   ],
   "source": [
    "data_filter"
   ]
  },
  {
   "cell_type": "code",
   "execution_count": 34,
   "metadata": {},
   "outputs": [
    {
     "name": "stdout",
     "output_type": "stream",
     "text": [
      "<class 'pandas.core.frame.DataFrame'>\n",
      "Int64Index: 18258 entries, 0 to 34573\n",
      "Data columns (total 6 columns):\n",
      "trip_id            18258 non-null object\n",
      "customer_id        18258 non-null object\n",
      "timestamp          18258 non-null object\n",
      "travel_distance    18258 non-null float64\n",
      "travel_time        18258 non-null float64\n",
      "trip_fare          18258 non-null int64\n",
      "dtypes: float64(2), int64(1), object(3)\n",
      "memory usage: 998.5+ KB\n"
     ]
    }
   ],
   "source": [
    "data_filter.info()"
   ]
  },
  {
   "cell_type": "code",
   "execution_count": 35,
   "metadata": {},
   "outputs": [],
   "source": [
    "data_filter['Duration'] = data_filter.groupby(['customer_id'])['travel_time'].diff().abs()"
   ]
  },
  {
   "cell_type": "code",
   "execution_count": 36,
   "metadata": {},
   "outputs": [],
   "source": [
    "data_filter = data_filter.dropna()"
   ]
  },
  {
   "cell_type": "code",
   "execution_count": 37,
   "metadata": {},
   "outputs": [
    {
     "data": {
      "text/html": [
       "<div>\n",
       "<style scoped>\n",
       "    .dataframe tbody tr th:only-of-type {\n",
       "        vertical-align: middle;\n",
       "    }\n",
       "\n",
       "    .dataframe tbody tr th {\n",
       "        vertical-align: top;\n",
       "    }\n",
       "\n",
       "    .dataframe thead th {\n",
       "        text-align: right;\n",
       "    }\n",
       "</style>\n",
       "<table border=\"1\" class=\"dataframe\">\n",
       "  <thead>\n",
       "    <tr style=\"text-align: right;\">\n",
       "      <th></th>\n",
       "      <th>trip_id</th>\n",
       "      <th>customer_id</th>\n",
       "      <th>timestamp</th>\n",
       "      <th>travel_distance</th>\n",
       "      <th>travel_time</th>\n",
       "      <th>trip_fare</th>\n",
       "      <th>Duration</th>\n",
       "    </tr>\n",
       "  </thead>\n",
       "  <tbody>\n",
       "    <tr>\n",
       "      <td>1</td>\n",
       "      <td>ID1390</td>\n",
       "      <td>CUST_001</td>\n",
       "      <td>2019-01-07 14:24:43.066000</td>\n",
       "      <td>10.624</td>\n",
       "      <td>26.600417</td>\n",
       "      <td>99</td>\n",
       "      <td>13.990750</td>\n",
       "    </tr>\n",
       "    <tr>\n",
       "      <td>9</td>\n",
       "      <td>ID3018</td>\n",
       "      <td>CUST_003</td>\n",
       "      <td>2019-01-07 18:13:40.138000</td>\n",
       "      <td>1.156</td>\n",
       "      <td>3.172717</td>\n",
       "      <td>26</td>\n",
       "      <td>5.535583</td>\n",
       "    </tr>\n",
       "    <tr>\n",
       "      <td>15</td>\n",
       "      <td>ID1119</td>\n",
       "      <td>CUST_004</td>\n",
       "      <td>2019-01-02 17:24:05.277000</td>\n",
       "      <td>11.707</td>\n",
       "      <td>21.824233</td>\n",
       "      <td>120</td>\n",
       "      <td>2.213317</td>\n",
       "    </tr>\n",
       "    <tr>\n",
       "      <td>30</td>\n",
       "      <td>ID4608</td>\n",
       "      <td>CUST_005</td>\n",
       "      <td>2019-01-06 07:47:26.409000</td>\n",
       "      <td>6.598</td>\n",
       "      <td>14.633667</td>\n",
       "      <td>56</td>\n",
       "      <td>1.487200</td>\n",
       "    </tr>\n",
       "    <tr>\n",
       "      <td>32</td>\n",
       "      <td>ID14974</td>\n",
       "      <td>CUST_006</td>\n",
       "      <td>2019-01-04 15:22:29.049000</td>\n",
       "      <td>3.727</td>\n",
       "      <td>15.582383</td>\n",
       "      <td>42</td>\n",
       "      <td>3.888250</td>\n",
       "    </tr>\n",
       "    <tr>\n",
       "      <td>43</td>\n",
       "      <td>ID35599</td>\n",
       "      <td>CUST_008</td>\n",
       "      <td>2019-01-05 13:37:09.064000</td>\n",
       "      <td>3.864</td>\n",
       "      <td>10.308717</td>\n",
       "      <td>42</td>\n",
       "      <td>2.053700</td>\n",
       "    </tr>\n",
       "    <tr>\n",
       "      <td>45</td>\n",
       "      <td>ID13371</td>\n",
       "      <td>CUST_012</td>\n",
       "      <td>2019-01-04 13:00:18.069000</td>\n",
       "      <td>11.564</td>\n",
       "      <td>36.465517</td>\n",
       "      <td>116</td>\n",
       "      <td>32.357650</td>\n",
       "    </tr>\n",
       "    <tr>\n",
       "      <td>48</td>\n",
       "      <td>ID30247</td>\n",
       "      <td>CUST_013</td>\n",
       "      <td>2019-01-04 17:28:22.705000</td>\n",
       "      <td>5.027</td>\n",
       "      <td>10.121733</td>\n",
       "      <td>48</td>\n",
       "      <td>0.237567</td>\n",
       "    </tr>\n",
       "    <tr>\n",
       "      <td>51</td>\n",
       "      <td>ID34572</td>\n",
       "      <td>CUST_014</td>\n",
       "      <td>2019-01-05 11:40:28.002000</td>\n",
       "      <td>3.228</td>\n",
       "      <td>15.255850</td>\n",
       "      <td>40</td>\n",
       "      <td>5.917450</td>\n",
       "    </tr>\n",
       "    <tr>\n",
       "      <td>56</td>\n",
       "      <td>ID36036</td>\n",
       "      <td>CUST_016</td>\n",
       "      <td>2019-01-05 14:26:37.633000</td>\n",
       "      <td>7.432</td>\n",
       "      <td>12.934717</td>\n",
       "      <td>58</td>\n",
       "      <td>2.905250</td>\n",
       "    </tr>\n",
       "  </tbody>\n",
       "</table>\n",
       "</div>"
      ],
      "text/plain": [
       "    trip_id customer_id                   timestamp  travel_distance  \\\n",
       "1    ID1390    CUST_001  2019-01-07 14:24:43.066000           10.624   \n",
       "9    ID3018    CUST_003  2019-01-07 18:13:40.138000            1.156   \n",
       "15   ID1119    CUST_004  2019-01-02 17:24:05.277000           11.707   \n",
       "30   ID4608    CUST_005  2019-01-06 07:47:26.409000            6.598   \n",
       "32  ID14974    CUST_006  2019-01-04 15:22:29.049000            3.727   \n",
       "43  ID35599    CUST_008  2019-01-05 13:37:09.064000            3.864   \n",
       "45  ID13371    CUST_012  2019-01-04 13:00:18.069000           11.564   \n",
       "48  ID30247    CUST_013  2019-01-04 17:28:22.705000            5.027   \n",
       "51  ID34572    CUST_014  2019-01-05 11:40:28.002000            3.228   \n",
       "56  ID36036    CUST_016  2019-01-05 14:26:37.633000            7.432   \n",
       "\n",
       "    travel_time  trip_fare   Duration  \n",
       "1     26.600417         99  13.990750  \n",
       "9      3.172717         26   5.535583  \n",
       "15    21.824233        120   2.213317  \n",
       "30    14.633667         56   1.487200  \n",
       "32    15.582383         42   3.888250  \n",
       "43    10.308717         42   2.053700  \n",
       "45    36.465517        116  32.357650  \n",
       "48    10.121733         48   0.237567  \n",
       "51    15.255850         40   5.917450  \n",
       "56    12.934717         58   2.905250  "
      ]
     },
     "execution_count": 37,
     "metadata": {},
     "output_type": "execute_result"
    }
   ],
   "source": [
    "data_filter.head(10)"
   ]
  },
  {
   "cell_type": "code",
   "execution_count": 38,
   "metadata": {},
   "outputs": [
    {
     "name": "stdout",
     "output_type": "stream",
     "text": [
      "Average Duration Between 1st Trip and 2nd Trip of Customers :    7.114040554141733   Hours\n"
     ]
    }
   ],
   "source": [
    "print(\"Average Duration Between 1st Trip and 2nd Trip of Customers :   \" , data_filter['Duration'].mean() , \"  Hours\")"
   ]
  },
  {
   "cell_type": "markdown",
   "metadata": {},
   "source": [
    "PART 3  : DATA MODELLING "
   ]
  },
  {
   "cell_type": "markdown",
   "metadata": {},
   "source": [
    "Importing Libraries"
   ]
  },
  {
   "cell_type": "markdown",
   "metadata": {},
   "source": [
    "Two types of supervised machine learning algorithms: Regression and classification. \n",
    "    The former predicts continuous value outputs while the latter predicts discrete outputs.\n",
    "    In our Modelling, predicting the price of a trip in Rupees is a regression problem \n",
    "    Linear Regression for multiple variables(Travel distance , travel time) using Scikit-Learn"
   ]
  },
  {
   "cell_type": "code",
   "execution_count": 39,
   "metadata": {},
   "outputs": [],
   "source": [
    "from sklearn.model_selection import train_test_split \n",
    "from sklearn.linear_model import LinearRegression\n",
    "from sklearn import metrics\n",
    " "
   ]
  },
  {
   "cell_type": "code",
   "execution_count": 40,
   "metadata": {},
   "outputs": [
    {
     "data": {
      "text/html": [
       "<div>\n",
       "<style scoped>\n",
       "    .dataframe tbody tr th:only-of-type {\n",
       "        vertical-align: middle;\n",
       "    }\n",
       "\n",
       "    .dataframe tbody tr th {\n",
       "        vertical-align: top;\n",
       "    }\n",
       "\n",
       "    .dataframe thead th {\n",
       "        text-align: right;\n",
       "    }\n",
       "</style>\n",
       "<table border=\"1\" class=\"dataframe\">\n",
       "  <thead>\n",
       "    <tr style=\"text-align: right;\">\n",
       "      <th></th>\n",
       "      <th>travel_distance</th>\n",
       "      <th>travel_time</th>\n",
       "      <th>trip_fare</th>\n",
       "    </tr>\n",
       "  </thead>\n",
       "  <tbody>\n",
       "    <tr>\n",
       "      <td>count</td>\n",
       "      <td>40709.000000</td>\n",
       "      <td>40709.000000</td>\n",
       "      <td>40709.000000</td>\n",
       "    </tr>\n",
       "    <tr>\n",
       "      <td>mean</td>\n",
       "      <td>4.378171</td>\n",
       "      <td>13.501934</td>\n",
       "      <td>46.485224</td>\n",
       "    </tr>\n",
       "    <tr>\n",
       "      <td>std</td>\n",
       "      <td>2.280922</td>\n",
       "      <td>7.155036</td>\n",
       "      <td>15.731062</td>\n",
       "    </tr>\n",
       "    <tr>\n",
       "      <td>min</td>\n",
       "      <td>0.000000</td>\n",
       "      <td>0.000000</td>\n",
       "      <td>0.000000</td>\n",
       "    </tr>\n",
       "    <tr>\n",
       "      <td>25%</td>\n",
       "      <td>2.610000</td>\n",
       "      <td>8.056000</td>\n",
       "      <td>35.000000</td>\n",
       "    </tr>\n",
       "    <tr>\n",
       "      <td>50%</td>\n",
       "      <td>4.027000</td>\n",
       "      <td>12.243767</td>\n",
       "      <td>44.000000</td>\n",
       "    </tr>\n",
       "    <tr>\n",
       "      <td>75%</td>\n",
       "      <td>5.896000</td>\n",
       "      <td>17.912350</td>\n",
       "      <td>56.000000</td>\n",
       "    </tr>\n",
       "    <tr>\n",
       "      <td>max</td>\n",
       "      <td>12.300000</td>\n",
       "      <td>37.577000</td>\n",
       "      <td>96.000000</td>\n",
       "    </tr>\n",
       "  </tbody>\n",
       "</table>\n",
       "</div>"
      ],
      "text/plain": [
       "       travel_distance   travel_time     trip_fare\n",
       "count     40709.000000  40709.000000  40709.000000\n",
       "mean          4.378171     13.501934     46.485224\n",
       "std           2.280922      7.155036     15.731062\n",
       "min           0.000000      0.000000      0.000000\n",
       "25%           2.610000      8.056000     35.000000\n",
       "50%           4.027000     12.243767     44.000000\n",
       "75%           5.896000     17.912350     56.000000\n",
       "max          12.300000     37.577000     96.000000"
      ]
     },
     "execution_count": 40,
     "metadata": {},
     "output_type": "execute_result"
    }
   ],
   "source": [
    "data_model.describe()"
   ]
  },
  {
   "cell_type": "markdown",
   "metadata": {},
   "source": [
    "Plot our data points on a 2-D graph to check our dataset and see if we can manually find any relationship between the data "
   ]
  },
  {
   "cell_type": "markdown",
   "metadata": {},
   "source": [
    "CORRELATION :"
   ]
  },
  {
   "cell_type": "code",
   "execution_count": 41,
   "metadata": {},
   "outputs": [
    {
     "data": {
      "text/html": [
       "<div>\n",
       "<style scoped>\n",
       "    .dataframe tbody tr th:only-of-type {\n",
       "        vertical-align: middle;\n",
       "    }\n",
       "\n",
       "    .dataframe tbody tr th {\n",
       "        vertical-align: top;\n",
       "    }\n",
       "\n",
       "    .dataframe thead th {\n",
       "        text-align: right;\n",
       "    }\n",
       "</style>\n",
       "<table border=\"1\" class=\"dataframe\">\n",
       "  <thead>\n",
       "    <tr style=\"text-align: right;\">\n",
       "      <th></th>\n",
       "      <th>travel_distance</th>\n",
       "      <th>travel_time</th>\n",
       "      <th>trip_fare</th>\n",
       "    </tr>\n",
       "  </thead>\n",
       "  <tbody>\n",
       "    <tr>\n",
       "      <td>travel_distance</td>\n",
       "      <td>1.000000</td>\n",
       "      <td>0.796939</td>\n",
       "      <td>0.978466</td>\n",
       "    </tr>\n",
       "    <tr>\n",
       "      <td>travel_time</td>\n",
       "      <td>0.796939</td>\n",
       "      <td>1.000000</td>\n",
       "      <td>0.801955</td>\n",
       "    </tr>\n",
       "    <tr>\n",
       "      <td>trip_fare</td>\n",
       "      <td>0.978466</td>\n",
       "      <td>0.801955</td>\n",
       "      <td>1.000000</td>\n",
       "    </tr>\n",
       "  </tbody>\n",
       "</table>\n",
       "</div>"
      ],
      "text/plain": [
       "                 travel_distance  travel_time  trip_fare\n",
       "travel_distance         1.000000     0.796939   0.978466\n",
       "travel_time             0.796939     1.000000   0.801955\n",
       "trip_fare               0.978466     0.801955   1.000000"
      ]
     },
     "execution_count": 41,
     "metadata": {},
     "output_type": "execute_result"
    }
   ],
   "source": [
    "corr_mat = data_model.corr()\n",
    "corr_mat"
   ]
  },
  {
   "cell_type": "code",
   "execution_count": 42,
   "metadata": {},
   "outputs": [
    {
     "data": {
      "text/plain": [
       "[None, None, None, None, None, None]"
      ]
     },
     "execution_count": 42,
     "metadata": {},
     "output_type": "execute_result"
    },
    {
     "data": {
      "image/png": "[encoded data removed]",
      "text/plain": [
       "<Figure size 720x720 with 4 Axes>"
      ]
     },
     "metadata": {
      "needs_background": "light"
     },
     "output_type": "display_data"
    }
   ],
   "source": [
    "cg = sns.clustermap(corr_mat, cmap =\"YlGnBu\", linewidths = 0.1); \n",
    "plt.setp(cg.ax_heatmap.yaxis.get_majorticklabels(), rotation = 0) "
   ]
  },
  {
   "cell_type": "markdown",
   "metadata": {},
   "source": [
    "Findings :                                                                                                                \n",
    "    From the below graph we as predict travel distance and trip fare is linearly correlated.                        \n",
    "    Its Positive correlation - The variables are said to be positive correlated when the two variables move in the same direction.\n",
    "    These two variables are positively correlated and that the correlation is 0.9. This suggests a high level of correlation, e.g. a value above 0.5 and close to 1.0."
   ]
  },
  {
   "cell_type": "code",
   "execution_count": 43,
   "metadata": {},
   "outputs": [
    {
     "data": {
      "image/png": "[encoded data removed]",
      "text/plain": [
       "<Figure size 432x288 with 1 Axes>"
      ]
     },
     "metadata": {
      "needs_background": "light"
     },
     "output_type": "display_data"
    }
   ],
   "source": [
    "data_model.plot(x='travel_distance', y='trip_fare', style='o')  \n",
    "plt.title('Travel_distance vs Trip_fare')  \n",
    "plt.xlabel('Travel_distance')  \n",
    "plt.ylabel('Trip_fare')  \n",
    "plt.show()"
   ]
  },
  {
   "cell_type": "markdown",
   "metadata": {},
   "source": [
    "Findings :                                                                                                                \n",
    "   From the below graph we as predict travel time and trip fare is linearly correlated.                        \n",
    "    Its Positive correlation-The variables are said to be positive correlated when the two variables move in the same direction.\n",
    "    These two variables are positively correlated and that the correlation is 0.8. This suggests a high level of correlation,\n",
    "    e.g. As value above 0.5 and close to 1.0."
   ]
  },
  {
   "cell_type": "code",
   "execution_count": 44,
   "metadata": {},
   "outputs": [
    {
     "data": {
      "image/png": "[encoded data removed]",
      "text/plain": [
       "<Figure size 432x288 with 1 Axes>"
      ]
     },
     "metadata": {
      "needs_background": "light"
     },
     "output_type": "display_data"
    }
   ],
   "source": [
    "data_model.plot(x='travel_time', y='trip_fare', style='o')  \n",
    "plt.title('Travel_time vs trip_fare')  \n",
    "plt.xlabel('Travel_time')  \n",
    "plt.ylabel('Trip_fare')  \n",
    "plt.show()"
   ]
  },
  {
   "cell_type": "markdown",
   "metadata": {},
   "source": [
    "After Data cleaning , most of the outliers are removed and data is normally distributed in \n",
    "all the varibles - Travel Time , Travel Distance , trip fare.\n",
    "Lets visualize all the variables. Data best fits for Modelling\n"
   ]
  },
  {
   "cell_type": "markdown",
   "metadata": {},
   "source": [
    "Ploting the average Trip Fare                                                                                     \n",
    "Findings :\n",
    "     we can observe that the Average Trip Fare is Between Nearly 30 and 50 Rs."
   ]
  },
  {
   "cell_type": "code",
   "execution_count": 45,
   "metadata": {},
   "outputs": [
    {
     "data": {
      "text/plain": [
       "<matplotlib.axes._subplots.AxesSubplot at 0xb545237788>"
      ]
     },
     "execution_count": 45,
     "metadata": {},
     "output_type": "execute_result"
    },
    {
     "data": {
      "image/png": "[encoded data removed]",
      "text/plain": [
       "<Figure size 1080x720 with 1 Axes>"
      ]
     },
     "metadata": {
      "needs_background": "light"
     },
     "output_type": "display_data"
    }
   ],
   "source": [
    "plt.figure(figsize=(15,10))\n",
    "plt.tight_layout()\n",
    "seabornInstance.distplot(data_model['trip_fare'])"
   ]
  },
  {
   "cell_type": "markdown",
   "metadata": {},
   "source": [
    "Ploting the average Travel Distance                                                         \n",
    "Findings :\n",
    "     we can observe that the Average Travel Distance is Between Nearly 2 and 5 KMs."
   ]
  },
  {
   "cell_type": "code",
   "execution_count": 46,
   "metadata": {},
   "outputs": [
    {
     "data": {
      "text/plain": [
       "<matplotlib.axes._subplots.AxesSubplot at 0xb545010a88>"
      ]
     },
     "execution_count": 46,
     "metadata": {},
     "output_type": "execute_result"
    },
    {
     "data": {
      "image/png": "[encoded data removed]",
      "text/plain": [
       "<Figure size 1080x720 with 1 Axes>"
      ]
     },
     "metadata": {
      "needs_background": "light"
     },
     "output_type": "display_data"
    }
   ],
   "source": [
    "plt.figure(figsize=(15,10))\n",
    "plt.tight_layout()\n",
    "seabornInstance.distplot(data_model['travel_distance'])"
   ]
  },
  {
   "cell_type": "markdown",
   "metadata": {},
   "source": [
    "Ploting the average Travel time                                                                                     \n",
    "Findings :\n",
    "     we can observe that the Average Travel time is Between Nearly 5 and 15 Minutes."
   ]
  },
  {
   "cell_type": "code",
   "execution_count": 47,
   "metadata": {},
   "outputs": [
    {
     "data": {
      "text/plain": [
       "<matplotlib.axes._subplots.AxesSubplot at 0xb544d62448>"
      ]
     },
     "execution_count": 47,
     "metadata": {},
     "output_type": "execute_result"
    },
    {
     "data": {
      "image/png": "[encoded data removed]",
      "text/plain": [
       "<Figure size 1080x720 with 1 Axes>"
      ]
     },
     "metadata": {
      "needs_background": "light"
     },
     "output_type": "display_data"
    }
   ],
   "source": [
    "plt.figure(figsize=(15,10))\n",
    "plt.tight_layout()\n",
    "seabornInstance.distplot(data_model['travel_time'])"
   ]
  },
  {
   "cell_type": "markdown",
   "metadata": {},
   "source": [
    "Our next step is to divide the data into dependent variablesand independent variables.\n",
    "We want to predict the Trip Fare depending upon the Travel distance and travel time recorded. "
   ]
  },
  {
   "cell_type": "code",
   "execution_count": 48,
   "metadata": {},
   "outputs": [],
   "source": [
    "x = data_model[['travel_distance','travel_time']]\n",
    "y= data_model['trip_fare']"
   ]
  },
  {
   "cell_type": "markdown",
   "metadata": {},
   "source": [
    "we split 80% of the data to the training set while 20% of the data to test set "
   ]
  },
  {
   "cell_type": "code",
   "execution_count": 49,
   "metadata": {},
   "outputs": [],
   "source": [
    "X_train, X_test, y_train, y_test = train_test_split(x, y, test_size=0.2, random_state=0)"
   ]
  },
  {
   "cell_type": "code",
   "execution_count": 50,
   "metadata": {},
   "outputs": [
    {
     "data": {
      "text/plain": [
       "LinearRegression(copy_X=True, fit_intercept=True, n_jobs=None, normalize=False)"
      ]
     },
     "execution_count": 50,
     "metadata": {},
     "output_type": "execute_result"
    }
   ],
   "source": [
    "regressor = LinearRegression()  \n",
    "regressor.fit(X_train, y_train)"
   ]
  },
  {
   "cell_type": "markdown",
   "metadata": {},
   "source": [
    "Linear regression model basically finds the best value for the intercept and slope, \n",
    "which results in a line that best fits the data ."
   ]
  },
  {
   "cell_type": "markdown",
   "metadata": {},
   "source": [
    "To retrieve the intercept:\n"
   ]
  },
  {
   "cell_type": "code",
   "execution_count": 51,
   "metadata": {},
   "outputs": [
    {
     "name": "stdout",
     "output_type": "stream",
     "text": [
      "16.623049852555255\n"
     ]
    }
   ],
   "source": [
    "print(regressor.intercept_)\n"
   ]
  },
  {
   "cell_type": "markdown",
   "metadata": {},
   "source": [
    "For retrieving the slope:\n"
   ]
  },
  {
   "cell_type": "code",
   "execution_count": 52,
   "metadata": {},
   "outputs": [
    {
     "name": "stdout",
     "output_type": "stream",
     "text": [
      "[6.41852246 0.12969066]\n"
     ]
    }
   ],
   "source": [
    "print(regressor.coef_)"
   ]
  },
  {
   "cell_type": "code",
   "execution_count": 53,
   "metadata": {},
   "outputs": [],
   "source": [
    "y_pred = regressor.predict(X_test)"
   ]
  },
  {
   "cell_type": "code",
   "execution_count": 54,
   "metadata": {},
   "outputs": [
    {
     "data": {
      "text/html": [
       "<div>\n",
       "<style scoped>\n",
       "    .dataframe tbody tr th:only-of-type {\n",
       "        vertical-align: middle;\n",
       "    }\n",
       "\n",
       "    .dataframe tbody tr th {\n",
       "        vertical-align: top;\n",
       "    }\n",
       "\n",
       "    .dataframe thead th {\n",
       "        text-align: right;\n",
       "    }\n",
       "</style>\n",
       "<table border=\"1\" class=\"dataframe\">\n",
       "  <thead>\n",
       "    <tr style=\"text-align: right;\">\n",
       "      <th></th>\n",
       "      <th>Actual</th>\n",
       "      <th>Predicted</th>\n",
       "    </tr>\n",
       "  </thead>\n",
       "  <tbody>\n",
       "    <tr>\n",
       "      <td>33379</td>\n",
       "      <td>39</td>\n",
       "      <td>40.054313</td>\n",
       "    </tr>\n",
       "    <tr>\n",
       "      <td>15244</td>\n",
       "      <td>48</td>\n",
       "      <td>51.016523</td>\n",
       "    </tr>\n",
       "    <tr>\n",
       "      <td>31830</td>\n",
       "      <td>62</td>\n",
       "      <td>65.349229</td>\n",
       "    </tr>\n",
       "    <tr>\n",
       "      <td>4061</td>\n",
       "      <td>46</td>\n",
       "      <td>42.335928</td>\n",
       "    </tr>\n",
       "    <tr>\n",
       "      <td>35084</td>\n",
       "      <td>53</td>\n",
       "      <td>44.643988</td>\n",
       "    </tr>\n",
       "    <tr>\n",
       "      <td>...</td>\n",
       "      <td>...</td>\n",
       "      <td>...</td>\n",
       "    </tr>\n",
       "    <tr>\n",
       "      <td>20701</td>\n",
       "      <td>39</td>\n",
       "      <td>38.478570</td>\n",
       "    </tr>\n",
       "    <tr>\n",
       "      <td>40601</td>\n",
       "      <td>67</td>\n",
       "      <td>68.398675</td>\n",
       "    </tr>\n",
       "    <tr>\n",
       "      <td>6903</td>\n",
       "      <td>28</td>\n",
       "      <td>28.392892</td>\n",
       "    </tr>\n",
       "    <tr>\n",
       "      <td>16499</td>\n",
       "      <td>31</td>\n",
       "      <td>33.137571</td>\n",
       "    </tr>\n",
       "    <tr>\n",
       "      <td>33627</td>\n",
       "      <td>70</td>\n",
       "      <td>66.967110</td>\n",
       "    </tr>\n",
       "  </tbody>\n",
       "</table>\n",
       "<p>8142 rows × 2 columns</p>\n",
       "</div>"
      ],
      "text/plain": [
       "       Actual  Predicted\n",
       "33379      39  40.054313\n",
       "15244      48  51.016523\n",
       "31830      62  65.349229\n",
       "4061       46  42.335928\n",
       "35084      53  44.643988\n",
       "...       ...        ...\n",
       "20701      39  38.478570\n",
       "40601      67  68.398675\n",
       "6903       28  28.392892\n",
       "16499      31  33.137571\n",
       "33627      70  66.967110\n",
       "\n",
       "[8142 rows x 2 columns]"
      ]
     },
     "execution_count": 54,
     "metadata": {},
     "output_type": "execute_result"
    }
   ],
   "source": [
    "data_predict = pd.DataFrame({'Actual': y_test, 'Predicted': y_pred})\n",
    "data_predict"
   ]
  },
  {
   "cell_type": "code",
   "execution_count": 55,
   "metadata": {},
   "outputs": [],
   "source": [
    "part3_pred = regressor.predict([[3.5,15]])"
   ]
  },
  {
   "cell_type": "code",
   "execution_count": 56,
   "metadata": {},
   "outputs": [
    {
     "name": "stdout",
     "output_type": "stream",
     "text": [
      "Trip Fare For Travel_distance 3.5 Kms  and 15 mins is : Rs -   [41.03323839]\n"
     ]
    }
   ],
   "source": [
    "print('Trip Fare For Travel_distance 3.5 Kms  and 15 mins is : Rs -  ' , part3_pred )"
   ]
  },
  {
   "cell_type": "code",
   "execution_count": 57,
   "metadata": {},
   "outputs": [
    {
     "data": {
      "image/png": "[encoded data removed]",
      "text/plain": [
       "<Figure size 1152x720 with 1 Axes>"
      ]
     },
     "metadata": {
      "needs_background": "light"
     },
     "output_type": "display_data"
    }
   ],
   "source": [
    "data_vis = data_predict.head(25)\n",
    "data_vis.plot(kind='bar',figsize=(16,10))\n",
    "plt.grid(which='major', linestyle='-', linewidth='0.5', color='green')\n",
    "plt.grid(which='minor', linestyle=':', linewidth='0.5', color='black')\n",
    "plt.show()"
   ]
  },
  {
   "cell_type": "code",
   "execution_count": 58,
   "metadata": {},
   "outputs": [
    {
     "name": "stdout",
     "output_type": "stream",
     "text": [
      "Mean Absolute Error: 2.3432003077045858\n",
      "Mean Squared Error: 10.615090893620843\n",
      "Root Mean Squared Error: 3.2580808605098865\n"
     ]
    }
   ],
   "source": [
    "print('Mean Absolute Error:', metrics.mean_absolute_error(y_test, y_pred))  \n",
    "print('Mean Squared Error:', metrics.mean_squared_error(y_test, y_pred))  \n",
    "print('Root Mean Squared Error:', np.sqrt(metrics.mean_squared_error(y_test, y_pred)))"
   ]
  },
  {
   "cell_type": "markdown",
   "metadata": {},
   "source": [
    "AS Root Mean Squared Error is 3.25 as our model not 100 percent best fit bit it will give good predictions"
   ]
  },
  {
   "cell_type": "markdown",
   "metadata": {},
   "source": [
    "PART 4 : Top 5 Hex Clusters"
   ]
  },
  {
   "cell_type": "code",
   "execution_count": 59,
   "metadata": {},
   "outputs": [],
   "source": [
    "data_tophex = data[['trip_id','pick_lat','drop_lat','pick_lng','drop_lng']]"
   ]
  },
  {
   "cell_type": "code",
   "execution_count": 60,
   "metadata": {},
   "outputs": [
    {
     "name": "stderr",
     "output_type": "stream",
     "text": [
      "C:\\ProgramData\\Anaconda3\\lib\\site-packages\\ipykernel_launcher.py:1: FutureWarning: using a dict on a Series for aggregation\n",
      "is deprecated and will be removed in a future version. Use                 named aggregation instead.\n",
      "\n",
      "    >>> grouper.agg(name_1=func_1, name_2=func_2)\n",
      "\n",
      "  \"\"\"Entry point for launching an IPython kernel.\n"
     ]
    },
    {
     "data": {
      "text/html": [
       "<div>\n",
       "<style scoped>\n",
       "    .dataframe tbody tr th:only-of-type {\n",
       "        vertical-align: middle;\n",
       "    }\n",
       "\n",
       "    .dataframe tbody tr th {\n",
       "        vertical-align: top;\n",
       "    }\n",
       "\n",
       "    .dataframe thead th {\n",
       "        text-align: right;\n",
       "    }\n",
       "</style>\n",
       "<table border=\"1\" class=\"dataframe\">\n",
       "  <thead>\n",
       "    <tr style=\"text-align: right;\">\n",
       "      <th></th>\n",
       "      <th>pick_lat</th>\n",
       "      <th>pick_lng</th>\n",
       "      <th>drop_lat</th>\n",
       "      <th>drop_lng</th>\n",
       "      <th>total_trips</th>\n",
       "    </tr>\n",
       "  </thead>\n",
       "  <tbody>\n",
       "    <tr>\n",
       "      <td>42301</td>\n",
       "      <td>17.480785</td>\n",
       "      <td>78.555748</td>\n",
       "      <td>17.480785</td>\n",
       "      <td>78.555748</td>\n",
       "      <td>2</td>\n",
       "    </tr>\n",
       "    <tr>\n",
       "      <td>38061</td>\n",
       "      <td>17.454683</td>\n",
       "      <td>78.371643</td>\n",
       "      <td>17.454683</td>\n",
       "      <td>78.371643</td>\n",
       "      <td>2</td>\n",
       "    </tr>\n",
       "    <tr>\n",
       "      <td>0</td>\n",
       "      <td>0.000000</td>\n",
       "      <td>0.000000</td>\n",
       "      <td>0.000000</td>\n",
       "      <td>0.000000</td>\n",
       "      <td>1</td>\n",
       "    </tr>\n",
       "    <tr>\n",
       "      <td>29725</td>\n",
       "      <td>17.442230</td>\n",
       "      <td>78.434944</td>\n",
       "      <td>17.426737</td>\n",
       "      <td>78.432907</td>\n",
       "      <td>1</td>\n",
       "    </tr>\n",
       "    <tr>\n",
       "      <td>29717</td>\n",
       "      <td>17.442211</td>\n",
       "      <td>78.441078</td>\n",
       "      <td>17.406941</td>\n",
       "      <td>78.471992</td>\n",
       "      <td>1</td>\n",
       "    </tr>\n",
       "  </tbody>\n",
       "</table>\n",
       "</div>"
      ],
      "text/plain": [
       "        pick_lat   pick_lng   drop_lat   drop_lng  total_trips\n",
       "42301  17.480785  78.555748  17.480785  78.555748            2\n",
       "38061  17.454683  78.371643  17.454683  78.371643            2\n",
       "0       0.000000   0.000000   0.000000   0.000000            1\n",
       "29725  17.442230  78.434944  17.426737  78.432907            1\n",
       "29717  17.442211  78.441078  17.406941  78.471992            1"
      ]
     },
     "execution_count": 60,
     "metadata": {},
     "output_type": "execute_result"
    }
   ],
   "source": [
    "data_tophex = data_tophex.groupby(['pick_lat','pick_lng','drop_lat','drop_lng'])[\"trip_id\"].aggregate({'total_trips': 'count'}).reset_index()\n",
    "\n",
    "data_tophex.sort_values(by='total_trips', ascending=False, inplace=True)\n",
    "data_tophex.head(5)"
   ]
  },
  {
   "cell_type": "code",
   "execution_count": null,
   "metadata": {},
   "outputs": [],
   "source": []
  },
  {
   "cell_type": "code",
   "execution_count": null,
   "metadata": {},
   "outputs": [],
   "source": []
  }
 ],
 "metadata": {
  "kernelspec": {
   "display_name": "Python 3",
   "language": "python",
   "name": "python3"
  },
  "language_info": {
   "codemirror_mode": {
    "name": "ipython",
    "version": 3
   },
   "file_extension": ".py",
   "mimetype": "text/x-python",
   "name": "python",
   "nbconvert_exporter": "python",
   "pygments_lexer": "ipython3",
   "version": "3.7.4"
  }
 },
 "nbformat": 4,
 "nbformat_minor": 2
}
